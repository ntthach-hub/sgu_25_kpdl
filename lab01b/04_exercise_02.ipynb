{
 "cells": [
  {
   "cell_type": "markdown",
   "id": "1d0ef297",
   "metadata": {},
   "source": [
    "# Kỹ thuật lập trình Python"
   ]
  },
  {
   "cell_type": "markdown",
   "id": "a786793c",
   "metadata": {},
   "source": [
    "## Làm quen với Numpy"
   ]
  },
  {
   "cell_type": "markdown",
   "id": "a113bced",
   "metadata": {},
   "source": [
    "### Bài 1. Tính toán trên dãy số"
   ]
  },
  {
   "cell_type": "markdown",
   "id": "0bdd09e7",
   "metadata": {},
   "source": [
    "#### 1. Tạo một dãy số a có N phần tử (N = 10)"
   ]
  },
  {
   "cell_type": "code",
   "execution_count": 7,
   "id": "d1f09adb",
   "metadata": {},
   "outputs": [
    {
     "name": "stdout",
     "output_type": "stream",
     "text": [
      "1. Tạo một dãy số a có N phần tử (N = 10)\n",
      "Day so a:  [164 167 184 187 187 129 141 156 190 132]\n"
     ]
    }
   ],
   "source": [
    "import numpy as np # Khai báo thư viện numpy\n",
    "\n",
    "print(\"1. Tạo một dãy số a có N phần tử (N = 10)\")\n",
    "\n",
    "N = 10\n",
    "np.random.seed(0)  # Đặt seed để ra đúng kết quả như hình\n",
    "a = np.random.randint(120, 191, N)  # Sinh ngẫu nhiên 10 số trong đoạn [120, 190]\n",
    "\n",
    "\n",
    "print(\"Day so a: \", a)"
   ]
  },
  {
   "cell_type": "markdown",
   "id": "81ef9fa4",
   "metadata": {},
   "source": [
    "#### 2. Các thao tác trên dãy số a\n",
    "(a) Bình phương các phần tử trong dãy số <br/>\n",
    "(b) Tìm số lượng các phần tử của dãy số <br/>\n",
    "(c) In ra giá trị lớn nhất, giá trị nhỏ nhất và giá trị trung bình <br/>\n",
    "(d) Tính phương sai của dãy số $\\sigma^2 = \\frac{\\sum{\\left(a_i - \\mu\\right)^2}}{N - 1}$ với $\\mu = \\frac{\\sum{a_i}}{N}$ và độ lệch chuẩn $var = \\sqrt{\\sigma^2}$"
   ]
  },
  {
   "cell_type": "code",
   "execution_count": 8,
   "id": "09272f30",
   "metadata": {},
   "outputs": [
    {
     "name": "stdout",
     "output_type": "stream",
     "text": [
      "2. Các thao tác tính toán đơn giản với dãy số a\n",
      "a. Binh phuong a:  [26896 27889 33856 34969 34969 16641 19881 24336 36100 17424]\n",
      "\n",
      "b. Do dai a:  10\n",
      "\n",
      "c. Gia tri lon nhat: [190], gia tri nho nhat: [129], gia tri trung binh [163.7]\n",
      "\n",
      "d. Phuong sai: [ 553.79] va do lech chuan: [ 23.53]\n"
     ]
    }
   ],
   "source": [
    "print(\"2. Các thao tác tính toán đơn giản với dãy số a\")\n",
    "a2 = a ** 2  # Tạo dãy số bình phương các phần tử trong a\n",
    "na = len(a)  # Tính độ dài của dãy số a\n",
    "\n",
    "print(\"a. Binh phuong a: \", a2)\n",
    "print(\"\\nb. Do dai a: \", na)\n",
    "\n",
    "v_max = np.max(a)\n",
    "v_min = np.min(a)\n",
    "v_avg = np.mean(a)\n",
    "# ...\n",
    "\n",
    "print(f'\\nc. Gia tri lon nhat: [{v_max}], gia tri nho nhat: [{v_min}], gia tri trung binh [{v_avg}]')\n",
    "\n",
    "# (d) Tính phương sai và độ lệch chuẩn\n",
    "v_sigma2 = np.var(a, ddof=1)  # ddof=1 để chia cho N-1\n",
    "v_var = np.sqrt(v_sigma2)\n",
    "# ...\n",
    "\n",
    "print(f'\\nd. Phuong sai: [{v_sigma2: .2f}] va do lech chuan: [{v_var: .2f}]')"
   ]
  },
  {
   "cell_type": "markdown",
   "id": "3ba8b2e1",
   "metadata": {},
   "source": [
    "#### 3. Toán tử trên hai dãy số\n",
    "(a) Tạo dãy số x có 10 phần tử từ 1 đến 10 (dùng hàm np.arange) <br/>\n",
    "(b) Liệt kê và đếm số lượng phần tử chẵn và lẻ có trong dãy a và x <br/>\n",
    "(c) Tính khoảng cách giữa các phần tử ở vị trí lẻ của mảng a và x với $s = \\sqrt{\\sum{\\left(a_i - x_i\\right)^2}}$ với $i$ lẻ<br/>\n",
    "(d) Tìm khoảng cách nhỏ nhất giữa tập a và x. Ví dụ: min({1, 3, 5}, {2, 10, 8}} = 1"
   ]
  },
  {
   "cell_type": "code",
   "execution_count": 9,
   "id": "5c35dc1a",
   "metadata": {},
   "outputs": [
    {
     "name": "stdout",
     "output_type": "stream",
     "text": [
      "3. Xử lý khác trên dãy số\n",
      "a. Day so x: [ 1  2  3  4  5  6  7  8  9 10]\n"
     ]
    }
   ],
   "source": [
    "print(\"3. Xử lý khác trên dãy số\")\n",
    "x = np.arange(1, 11)  # (a) Tạo dãy số x có 10 phần tử từ 1 đến 10\n",
    "# ...\n",
    "\n",
    "print(f'a. Day so x: {x}')"
   ]
  },
  {
   "cell_type": "code",
   "execution_count": 10,
   "id": "df814303",
   "metadata": {},
   "outputs": [
    {
     "name": "stdout",
     "output_type": "stream",
     "text": [
      "b. Cac phan tu chan trong day a, b: \n",
      "+ Day a: [164 167 184 187 187 129 141 156 190 132]\n",
      "  - Loc chan: [ True False  True False False False False  True  True  True]\n",
      "  - Day chua phan tu chan trong a: [164 184 156 190 132], so luong 5 phan tu.\n",
      "+ Day x: [ 1  2  3  4  5  6  7  8  9 10]\n",
      "  - Loc chan: [False  True False  True False  True False  True False  True]\n",
      "  - Day chua phan tu chan trong a: [ 2  4  6  8 10], so luong 5 phan tu.\n"
     ]
    }
   ],
   "source": [
    "a_la_chan = a % 2 == 0  # Mảng boolean đánh dấu phần tử chẵn trong a\n",
    "a_chan = a[a_la_chan]   # Lấy các phần tử chẵn trong a\n",
    "n_a_chan = len(a_chan)  # Đếm số phần tử chẵn trong a\n",
    "x_la_chan = x % 2 == 0  # Mảng boolean đánh dấu phần tử chẵn trong x\n",
    "x_chan = x[x_la_chan]   # Lấy các phần tử chẵn trong x\n",
    "n_x_chan = len(x_chan)  # Đếm số phần tử chẵn trong x\n",
    "# ...\n",
    "\n",
    "print( \"b. Cac phan tu chan trong day a, b: \")\n",
    "print(f\"+ Day a: {a}\")\n",
    "print(f\"  - Loc chan: {a_la_chan}\")\n",
    "print(f\"  - Day chua phan tu chan trong a: {a_chan}, so luong {n_a_chan} phan tu.\")\n",
    "print(f\"+ Day x: {x}\")\n",
    "print(f\"  - Loc chan: {x_la_chan}\")\n",
    "print(f\"  - Day chua phan tu chan trong a: {x_chan}, so luong {n_x_chan} phan tu.\")"
   ]
  },
  {
   "cell_type": "code",
   "execution_count": 11,
   "id": "444ee256",
   "metadata": {},
   "outputs": [
    {
     "name": "stdout",
     "output_type": "stream",
     "text": [
      "c.Tính hiệu các phần tử ở vị trí lẻ của mảng a và x: \n",
      "+ Vi tri le trong a va x: [1 3 5 7 9]\n",
      "+ Day so a: [164 167 184 187 187 129 141 156 190 132] va cac so o vi tri le: [167 187 129 156 132]\n",
      "+ Day so x: [ 1  2  3  4  5  6  7  8  9 10] va cac so o vi tri le: [ 2  4  6  8 10]\n",
      "+ Hieu cua a va x o vi tri le: [165 183 123 148 122]\n",
      "+ Khoang cach cac phan tu cua a va x o vi tri le: [165. 183. 123. 148. 122.]\n"
     ]
    }
   ],
   "source": [
    "v_le = np.arange(1, N, 2)  # Vị trí lẻ trong dãy (1, 3, 5, 7, 9)\n",
    "a_le = a[v_le]             # Lấy các phần tử ở vị trí lẻ trong a\n",
    "x_le = x[v_le]             # Lấy các phần tử ở vị trí lẻ trong x\n",
    "hieu_le = a_le - x_le     # Tính hiệu các phần tử ở vị trí lẻ\n",
    "kc_le = np.sqrt((a_le - x_le)**2)  # Tính khoảng cách các phần tử ở vị trí lẻ\n",
    "\n",
    "# ...\n",
    "\n",
    "print( \"c.Tính hiệu các phần tử ở vị trí lẻ của mảng a và x: \")\n",
    "print(f\"+ Vi tri le trong a va x: {v_le}\")\n",
    "print(f\"+ Day so a: {a} va cac so o vi tri le: {a_le}\")\n",
    "print(f\"+ Day so x: {x} va cac so o vi tri le: {x_le}\")\n",
    "print(f\"+ Hieu cua a va x o vi tri le: {hieu_le}\")\n",
    "print(f\"+ Khoang cach cac phan tu cua a va x o vi tri le: {np.round(kc_le, 2)}\")"
   ]
  },
  {
   "cell_type": "code",
   "execution_count": 12,
   "id": "6304a33e",
   "metadata": {},
   "outputs": [
    {
     "name": "stdout",
     "output_type": "stream",
     "text": [
      "d. Tìm khoảng cách nhỏ nhất giữa tập a và x. Ví dụ: min({1, 3, 5}, {2, 10, 8}} = 1\n",
      "+ Day a: [164 167 184 187 187 129 141 156 190 132]\n",
      "+ Day x: [ 1  2  3  4  5  6  7  8  9 10]\n",
      "+ Khoang cach nho nhat: 119\n"
     ]
    }
   ],
   "source": [
    "print(\"d. Tìm khoảng cách nhỏ nhất giữa tập a và x. Ví dụ: min({1, 3, 5}, {2, 10, 8}} = 1\")\n",
    "\"\"\"\n",
    "Gợi ý: Áp dụng toán tử broatcasting\n",
    "[[1],                    [[1, 1, 1],        [[2, 10, 8],    =   [[-1, -9, -7],\n",
    " [3],   - [2, 10, 8] =    [3, 3, 3],   -     [2, 10, 8],         [ 1, -7, -5],  --> np.min(np.abs(...)) = 1\n",
    " [5]]                     [5, 5, 5]]         [2, 10, 8]]         [ 3, -5, -3]]\n",
    "\"\"\"\n",
    "# Tạo ma trận hiệu giữa các phần tử của a và x\n",
    "# Cách 1: Dùng np.reshape để thay đổi kích thước mảng a\n",
    "# a_reshaped = a.reshape(-1, 1)  # Chuyển a thành ma trận cột\n",
    "# v_diff = a_reshaped - x        # Tính hiệu giữa ma trận cột a và mảng x\n",
    "# Cách 2: Dùng np.newaxis để tăng số chiều  của mảng a                      \n",
    "a_reshaped = a[:, np.newaxis]  # Chuyển a thành ma trận cột\n",
    "v_diff = a_reshaped - x        # Tính hiệu giữa ma trận cột a và mảng x\n",
    "# Tính khoảng cách tuyệt đối\n",
    "v_dist = np.abs(v_diff)        # Tính giá trị tuyệt đối của hiệu\n",
    "# Tìm khoảng cách nhỏ nhất\n",
    "v_min = np.min(v_dist)         # Tìm giá trị nhỏ nhất trong ma trận khoảng cách\n",
    "# Cách 3: Dùng trực tiếp np.newaxis để tăng số chiều      \n",
    "# Tăng số chiều dùng tại vị trí chiều cuối dùng np.newaxis như sau: a[:, np.newaxis]\n",
    "# ...\n",
    "\n",
    "print(f\"+ Day a: {a}\")\n",
    "print(f\"+ Day x: {x}\")\n",
    "print(f\"+ Khoang cach nho nhat: {v_min}\")"
   ]
  },
  {
   "cell_type": "markdown",
   "id": "41f13125",
   "metadata": {},
   "source": [
    "#### 4. Sinh ngẫu nhiên dãy số\n",
    "(a) Sinh ngẫu nhiên dãy số có 100 phần tử theo phân bố đều với giá trị trong đoạn [1, 10] và vẽ đồ thị tần số xuất hiện <br/> \n",
    "(b) Sinh ngẫu nhiên N diem (x, y) với y là hàm phân phối chuẩn $N(\\mu = 1, \\sigma^2 = 1.0)$: <br/>\n",
    " $$\n",
    " y = f\\left(x| \\mu, \\sigma\\right) = \\frac{1}{\\sigma\\sqrt{2\\pi}}exp\\left(-\\frac{\\left(x - \\mu\\right)^2}{2\\sigma^2}\\right)\n",
    " $$\n",
    " nơi mà $x \\in [\\mu - 5\\sigma, \\mu + 5\\sigma]$ <br/> \n",
    " (c) Sinh ngẫu nhiên dãy số có 100000 phần tử theo phân bố chuẩn $N(\\mu = 1, \\sigma^2 = 1.0)$ và vẽ đồ thị tần số xuất hiện <br/> <br/> "
   ]
  },
  {
   "cell_type": "code",
   "execution_count": 13,
   "id": "4468ec55",
   "metadata": {},
   "outputs": [
    {
     "name": "stdout",
     "output_type": "stream",
     "text": [
      "4. Sinh dãy số ngẫu nhiên và vẽ đồ thị hàm số xuất hiện\n",
      "a. Sinh ngẫu nhiên theo phân bố đều\n",
      "+ Gia tri: [ 1  2  3  4  5  6  7  8  9 10]\n",
      "+ So lan xuat hien: [111  92 110  97  99  96 110 102  87  96]\n",
      "+ Do thi ham so xuat hien\n"
     ]
    },
    {
     "data": {
      "image/png": "[encoded data removed]",
      "text/plain": [
       "<Figure size 600x600 with 1 Axes>"
      ]
     },
     "metadata": {},
     "output_type": "display_data"
    }
   ],
   "source": [
    "import matplotlib.pyplot as plt  # Khai báo thư viện pyplot trong matplotlib\n",
    "\n",
    "print(\"4. Sinh dãy số ngẫu nhiên và vẽ đồ thị hàm số xuất hiện\")\n",
    "np.random.seed(1)  # Đặt seed để ra đúng kết quả như hình\n",
    "size = 1000        # Kích thước dãy số\n",
    "value = np.arange(1, 11)  # Các giá trị từ 1 đến 10\n",
    "value = np.append(value, 10)  # Thêm giá trị 10 vào cuối dãy để đảm bảo giá trị 10 có thể xuất hiện\n",
    "value = np.unique(value)  # Loại bỏ giá trị trùng lặp nếu có\n",
    "# Sinh ngẫu nhiên dãy số\n",
    "random_numbers = np.random.randint(1, 11, size)  # Sinh ngẫu nhiên 1000 số trong đoạn [1, 10]\n",
    "cnt = np.array([np.sum(random_numbers == v) for v in value])  # Đếm tần số xuất hiện của mỗi giá trị trong value\n",
    "# Hoặc dùng np.unique với return_counts=True\n",
    "# value, cnt = np.unique(random_numbers, return_counts=True)\n",
    "\n",
    "# Sử dụng hàm np.random.randint để sinh dãy số ngẫu nhiên\n",
    "# Sử dụng hàm np.unique để trả về tần số xuất hiện\n",
    "# ...\n",
    "\n",
    "print(\"a. Sinh ngẫu nhiên theo phân bố đều\")\n",
    "print(f\"+ Gia tri: {value}\")\n",
    "print(f\"+ So lan xuat hien: {cnt}\")\n",
    "print(\"+ Do thi ham so xuat hien\")\n",
    "plt.figure(figsize=(6,6))      #  kich thuoc ban ve\n",
    "plt.bar(value, cnt)            #  ve cac khoi chu nhat theo day x, y\n",
    "plt.xlim(0, 11)                #  gioi han truc x\n",
    "plt.ylim(0, np.max(cnt) + 10)  #  gioi han truc y\n",
    "plt.savefig(\"4a.png\")          #  luu do thi\n",
    "plt.show()                     #  hien thi do thi"
   ]
  },
  {
   "cell_type": "code",
   "execution_count": 14,
   "id": "26bc62b5",
   "metadata": {},
   "outputs": [
    {
     "name": "stdout",
     "output_type": "stream",
     "text": [
      "b. Sinh cặp (x, y) với y làm hàm phân phối chuẩn\n",
      "+ x: -5 <= min [-4.98] <= max [ 4.99] <= 5\n",
      "+ Ve ham so y(x)\n"
     ]
    },
    {
     "data": {
      "image/png": "[encoded data removed]",
      "text/plain": [
       "<Figure size 600x600 with 1 Axes>"
      ]
     },
     "metadata": {},
     "output_type": "display_data"
    }
   ],
   "source": [
    "# (b) Sinh cặp (x, y) với y làm hàm phân phối chuẩn\n",
    "np.random.seed(2)  # Đặt seed để ra đúng kết quả như hình\n",
    "size = 1000        # Kích thước dãy số\n",
    "x_min, x_max = -5, 5  # Giới hạn dãy số x\n",
    "m, s = 0, 1        # Tham số của hàm phân phối chuẩn N(m, s)\n",
    "x = np.random.rand(size) * (x_max - x_min) + x_min  # Sinh ngẫu nhiên dãy số x trong [x_min, x_max]\n",
    "y = (1 / (s * np.sqrt(2 * np.pi))) * np.exp(-0.5 * ((x - m) / s) ** 2)  # Tính y theo hàm phân phối chuẩn N(m, s)\n",
    "\n",
    "# Sử dụm hàm np.random.rand() sinh số ngẫu nhiên trong [0,1) --> [0,1) * (b - a) + a --> [a, b)\n",
    "# Sử dụng hàm sau để tính hàm xác suất chuẩn N(m, s): np.sqrt, np.exp\n",
    "# ...\n",
    "\n",
    "print(\"b. Sinh cặp (x, y) với y làm hàm phân phối chuẩn\")\n",
    "print(f\"+ x: {x_min} <= min [{np.min(x): .2f}] <= max [{np.max(x): .2f}] <= {x_max}\")\n",
    "print(f\"+ Ve ham so y(x)\")\n",
    "plt.figure(figsize=(6,6))      # kich thuoc ban ve\n",
    "plt.scatter(x, y)              # ve cac diem (xi, yi)\n",
    "plt.savefig(\"4b.png\")          #  luu do thi\n",
    "plt.show()                     #  hien thi do thi"
   ]
  },
  {
   "cell_type": "code",
   "execution_count": null,
   "id": "451ede10",
   "metadata": {},
   "outputs": [
    {
     "ename": "IndexError",
     "evalue": "index 299 is out of bounds for axis 0 with size 299",
     "output_type": "error",
     "traceback": [
      "\u001b[1;31m---------------------------------------------------------------------------\u001b[0m",
      "\u001b[1;31mIndexError\u001b[0m                                Traceback (most recent call last)",
      "Cell \u001b[1;32mIn[27], line 10\u001b[0m\n\u001b[0;32m      8\u001b[0m val \u001b[38;5;241m=\u001b[39m bin_centers  \u001b[38;5;66;03m# Đặt lại val thành trung điểm các bin để vẽ đồ thị\u001b[39;00m\n\u001b[0;32m      9\u001b[0m \u001b[38;5;28mbreakpoint\u001b[39m \u001b[38;5;241m=\u001b[39m np\u001b[38;5;241m.\u001b[39mwhere(cnt \u001b[38;5;241m>\u001b[39m \u001b[38;5;241m0\u001b[39m)  \u001b[38;5;66;03m# Lấy các điểm có tần số xuất hiện > 0\u001b[39;00m\n\u001b[1;32m---> 10\u001b[0m val \u001b[38;5;241m=\u001b[39m \u001b[43mval\u001b[49m\u001b[43m[\u001b[49m\u001b[38;5;28;43mbreakpoint\u001b[39;49m\u001b[43m]\u001b[49m  \u001b[38;5;66;03m# Lọc val theo breakpoint\u001b[39;00m\n\u001b[0;32m     11\u001b[0m cnt \u001b[38;5;241m=\u001b[39m cnt[\u001b[38;5;28mbreakpoint\u001b[39m]  \u001b[38;5;66;03m# Lọc cnt theo breakpoint    \u001b[39;00m\n\u001b[0;32m     12\u001b[0m \u001b[38;5;66;03m# Sử dụng hàm np.random.randn() sinh phân phối chuẩn N(0,1) --> N(m,s^2) = m + N(0,1) * s\u001b[39;00m\n\u001b[0;32m     13\u001b[0m \u001b[38;5;66;03m# Sử dụng hàm np.histogram với density=True để thống kê số lần xuất hiện với số bins = 300 (do dãy số thực)\u001b[39;00m\n\u001b[0;32m     14\u001b[0m \u001b[38;5;66;03m# ...\u001b[39;00m\n",
      "\u001b[1;31mIndexError\u001b[0m: index 299 is out of bounds for axis 0 with size 299"
     ]
    }
   ],
   "source": [
    "# (c) Sinh dãy số theo phân phối chuẩn\n",
    "np.random.seed(3)  # Đặt seed để ra đúng kết quả như hình\n",
    "   \n",
    "# Sử dụng hàm np.random.randn() sinh phân phối chuẩn N(0,1) --> N(m,s^2) = m + N(0,1) * s\n",
    "# Sử dụng hàm np.histogram với density=True để thống kê số lần xuất hiện với số bins = 300 (do dãy số thực)\n",
    "# ...\n",
    "\n",
    "print( \"c. Sinh day so theo phan phoi chuan\")\n",
    "print(f\"+ x: len = {len(x)}, min [{np.min(x)}], max [{np.max(x)}]\")\n",
    "print(f\"+ Mat so xac suat cua day so x\")\n",
    "plt.figure(figsize=(6,6))      # kich thuoc ban ve\n",
    "plt.xlim(np.min(val), np.max(val))\n",
    "plt.scatter(val, cnt)\n",
    "plt.show()"
   ]
  },
  {
   "cell_type": "markdown",
   "id": "7d54af91",
   "metadata": {},
   "source": [
    "### Bài 2. Tính toán trên ma trận"
   ]
  },
  {
   "cell_type": "markdown",
   "id": "6aaaf337",
   "metadata": {},
   "source": [
    "#### 1. Tạo ma trận a có M = 6 dòng, N = 4 cột"
   ]
  },
  {
   "cell_type": "code",
   "execution_count": null,
   "id": "79b6a572",
   "metadata": {},
   "outputs": [
    {
     "name": "stdout",
     "output_type": "stream",
     "text": [
      "Ma trận a: \n",
      " [[136 175 157 131]\n",
      " [139 149 143 122]\n",
      " [149 156 187 172]\n",
      " [179 147 125 174]\n",
      " [124 142 185 161]\n",
      " [190 121 136 169]]\n"
     ]
    }
   ],
   "source": [
    "# a = np.random.randint(100, 200, (6, 4))\n",
    "a = np.random.randint(120, 191, (6, 4))  # Sinh ngẫu nhiên ma trận 6x4 trong đoạn [120, 190]\n",
    "# Sử dụng hàm np.random.randint để sinh ma trận ngẫu nhiên\n",
    "# ...\n",
    "\n",
    "print(\"Ma trận a: \\n\", a)"
   ]
  },
  {
   "cell_type": "markdown",
   "id": "2c7c2cc7",
   "metadata": {},
   "source": [
    "#### 2. Các thao tác trên ma trận a#### 2. Các thao tác trên ma trận a\n",
    "(a) In ra ma trận chuyển vị <br/>\n",
    "(b) In ra phần tử ở vị trí dòng 2 cột 3 <br/>\n",
    "(c) Trích xuất dòng đầu, dòng cuối, dòng 2 <br/>\n",
    "(d) Trích xuất cột kế cuối, cột đầu <br/>\n",
    "(e) Đảo các giá trị trên từng cột <br/>\n",
    "(f) Tính tổng các dòng, trung bình các cột <br/>\n",
    "(a) In ra ma trận chuyển vị <br/>\n",
    "(b) In ra phần tử ở vị trí dòng 2 cột 3 <br/>\n",
    "(c) Trích xuất dòng đầu, dòng cuối, dòng 2 <br/>\n",
    "(d) Trích xuất cột kế cuối, cột đầu <br/>\n",
    "(e) Đảo các giá trị trên từng cột <br/>\n",
    "(f) Tính tổng các dòng, trung bình các cột <br/>"
   ]
  },
  {
   "cell_type": "code",
   "execution_count": 29,
   "id": "9885a010",
   "metadata": {},
   "outputs": [
    {
     "name": "stdout",
     "output_type": "stream",
     "text": [
      "5. Các thao tác với ma trận a\n",
      "a. In ra ma trận chuyển vị: \n",
      "[[136 139 149 179 124 190]\n",
      " [175 149 156 147 142 121]\n",
      " [157 143 187 125 185 136]\n",
      " [131 122 172 174 161 169]]\n",
      "\n",
      "b. In ra phần tử ở vị trí dòng 2 cột 3: 143\n",
      "\n",
      "c. Trích xuất các dòng: \n",
      "   + Dòng đầu : [136 175 157 131]\n",
      "   + Dòng cuối: [190 121 136 169]\n",
      "   + Dòng hai : [149 156 187 172]\n",
      "\n",
      "d. Trích xuất các cột: \n",
      "   + Cột kế cuối: [157 143 187 125 185 136]\n",
      "   + Cột đầu: [136 139 149 179 124 190]\n",
      "\n",
      "e. Đảo các giá trị trên từng cột: \n",
      " [[190 121 136 169]\n",
      " [124 142 185 161]\n",
      " [179 147 125 174]\n",
      " [149 156 187 172]\n",
      " [139 149 143 122]\n",
      " [136 175 157 131]]\n",
      "\n",
      "f. Phép tính theo trục:\n",
      "   + Tổng dòng: [599 553 664 625 612 616]\n",
      "   + Trung bình cột: [152.83333333 148.33333333 155.5        154.83333333]\n"
     ]
    }
   ],
   "source": [
    "print(\"5. Các thao tác với ma trận a\")\n",
    "a_t = a.T               # a. Ma trận chuyển vị của a\n",
    "v_23 = a[1, 2]          # b. Phần tử ở vị trí dòng 2 cột 3 (chú ý đánh số từ 0)\n",
    "d_0 = a[0, :]          # c. Dòng đầu của ma trận a  \n",
    "d_last = a[-1, :]      #    Dòng cuối của ma trận a\n",
    "d_2 = a[2, :]          #    Dòng hai của ma trận a\n",
    "c_l1 = a[:, -2]        # d. Cột kế cuối của ma trận a\n",
    "c_0 = a[:, 0]          #    Cột đầu của ma trận a\n",
    "dao_cot = a[::-1, :]   # e. Đảo các giá trị trên từng cột của ma trận a\n",
    "tong_dong = np.sum(a, axis=1)  # f. Tổng các phần tử trên từng dòng của ma trận a\n",
    "tb_cot = np.mean(a, axis=0)  #    Trung bình các phần tử trên từng cột  của ma trận a   \n",
    "# ...\n",
    "\n",
    "print(f\"a. In ra ma trận chuyển vị: \\n{a_t}\")\n",
    "print(f\"\\nb. In ra phần tử ở vị trí dòng 2 cột 3: {v_23}\")\n",
    "print(f\"\\nc. Trích xuất các dòng: \")\n",
    "print(f\"   + Dòng đầu : {d_0}\")\n",
    "print(f\"   + Dòng cuối: {d_last}\")\n",
    "print(f\"   + Dòng hai : {d_2}\")\n",
    "print(f\"\\nd. Trích xuất các cột: \")\n",
    "print(f\"   + Cột kế cuối: {c_l1}\")\n",
    "print(f\"   + Cột đầu: {c_0}\")\n",
    "print(f\"\\ne. Đảo các giá trị trên từng cột: \\n {dao_cot}\")\n",
    "print(f\"\\nf. Phép tính theo trục:\")\n",
    "print(f\"   + Tổng dòng: {tong_dong}\")\n",
    "print(f\"   + Trung bình cột: {tb_cot}\")"
   ]
  },
  {
   "cell_type": "markdown",
   "id": "fda41e4e",
   "metadata": {},
   "source": [
    "#### 3. Các toán tử trên hai ma trận\n",
    "(a) Tạo hai ma trận A và B có 4 dòng x 3 cột và X có 3 dòng x 4 cột <br/>\n",
    "(b) Tính tổng, hiệu, tích của từng phần tử trên hai ma trận A và B <br/>\n",
    "(c) Tính phép nhân ma trận Y = A x X"
   ]
  },
  {
   "cell_type": "code",
   "execution_count": 30,
   "id": "71e2e395",
   "metadata": {},
   "outputs": [
    {
     "name": "stdout",
     "output_type": "stream",
     "text": [
      "6. Các phép toán trên ma trận A, B và X\n",
      "a. Tạo hai ma trận A và B có 4 dòng x 3 cột và X có 3 dòng x 4 cột\n",
      "+ Ma tran A: \n",
      "[[166 175 189]\n",
      " [121 170 129]\n",
      " [178 175 175]\n",
      " [177 156 170]]\n",
      "+ Ma tran B: \n",
      "[[164 158 172]\n",
      " [123 120 175]\n",
      " [141 141 158]\n",
      " [176 186 166]]\n",
      "+ Ma tran X: \n",
      "[[150 128 169 186]\n",
      " [178 152 160 162]\n",
      " [165 153 152 148]]\n",
      "\n",
      "b. Tính tổng, hiệu, tích của từng phần tử trên hai ma trận A và B\n",
      "A + B = \n",
      "[[330 333 361]\n",
      " [244 290 304]\n",
      " [319 316 333]\n",
      " [353 342 336]]\n",
      "A - B = \n",
      "[[  2  17  17]\n",
      " [ -2  50 -46]\n",
      " [ 37  34  17]\n",
      " [  1 -30   4]]\n",
      "A . B = \n",
      "[[27224 27650 32508]\n",
      " [14883 20400 22575]\n",
      " [25098 24675 27650]\n",
      " [31152 29016 28220]]\n",
      "\n",
      "c. Tính phép nhân ma trận Y = A x X\n",
      "Y = A x X --> shape A ((4, 3)) x shape X ((3, 4)) = shape Y ((4, 4)) \n",
      "[[87235 76765 84782 87198]\n",
      " [69695 61065 67257 69138]\n",
      " [86725 76159 84682 87358]\n",
      " [82368 72378 80713 83354]]\n"
     ]
    }
   ],
   "source": [
    "print(\"6. Các phép toán trên ma trận A, B và X\")\n",
    "np.random.seed(4)  # Đặt seed để ra đúng kết quả như hình\n",
    "A = np.random.randint(120, 191, (4, 3))  # Ma trận A có 4 dòng x 3 cột\n",
    "B = np.random.randint(120, 191, (4, 3))  # Ma trận B có 4 dòng x 3 cột\n",
    "X = np.random.randint(120, 191, (3, 4))  # Ma trận X có 3 dòng x 4 cột \n",
    "AB_add = A + B        # a. Tính tổng A + B\n",
    "AB_sub = A - B        #    Tính hiệu A - B\n",
    "AB_mul = A * B        #    Tính tích từng phần tử A * B\n",
    "Y = A @ X             # c. Tính tích ma trận Y = A x X\n",
    "# ...\n",
    "\n",
    "print(\"a. Tạo hai ma trận A và B có 4 dòng x 3 cột và X có 3 dòng x 4 cột\")\n",
    "print(f\"+ Ma tran A: \\n{A}\")\n",
    "print(f\"+ Ma tran B: \\n{B}\")\n",
    "print(f\"+ Ma tran X: \\n{X}\")\n",
    "\n",
    "print(\"\\nb. Tính tổng, hiệu, tích của từng phần tử trên hai ma trận A và B\")\n",
    "print(f\"A + B = \\n{AB_add}\")\n",
    "print(f\"A - B = \\n{AB_sub}\")\n",
    "print(f\"A . B = \\n{AB_mul}\")\n",
    "\n",
    "print(\"\\nc. Tính phép nhân ma trận Y = A x X\")\n",
    "print(f\"Y = A x X --> shape A ({A.shape}) x shape X ({X.shape}) = shape Y ({Y.shape}) \\n{Y}\")"
   ]
  },
  {
   "cell_type": "markdown",
   "id": "e14e8c38",
   "metadata": {},
   "source": [
    "#### 4. Giải hệ phương trình tuyến tính\n",
    "Giải hệ phương trình tuyến tính sau:\n",
    "$$\n",
    "\\left\\{\\begin{matrix}\n",
    "        4x_1  + 3x_2 - 5x_3 = 2 \\\\ \n",
    "        -2x_1 - 4x_2 + 5x_3 = 5 \\\\ \n",
    "        8x_1 + 8x_2 = -3 \\\\ \n",
    "\\end{matrix}\\right.\n",
    "$$"
   ]
  },
  {
   "cell_type": "code",
   "execution_count": 31,
   "id": "defc1a10",
   "metadata": {},
   "outputs": [
    {
     "name": "stdout",
     "output_type": "stream",
     "text": [
      "7. Giải hệ phương trình tuyến tính Ax = y\n",
      "+ Ma tran A: \n",
      "[[181 136 128 182]\n",
      " [147 150 127 135]\n",
      " [173 147 164 185]\n",
      " [167 150 138 129]]\n",
      "+ Vector y: [161 182 121 136]\n",
      "+ Nghiem x: [-0.74943251  2.94478282 -2.2624999   1.0206418 ]\n",
      "+ Kiem tra: yy = Ax = [161. 182. 121. 136.] ==> ||yy -y ||_2 =  0.00\n"
     ]
    }
   ],
   "source": [
    "print(\"7. Giải hệ phương trình tuyến tính Ax = y\")\n",
    "np.random.seed(5)  # Đặt seed để ra đúng kết quả như hình\n",
    "A = np.random.randint(120, 191, (4, 4))  # Ma trận A có 4 dòng x 4 cột\n",
    "y = np.random.randint(120, 191, 4)     # Vector y có 4 phần tử\n",
    "x = np.linalg.solve(A, y)  # Giải hệ phương trình Ax = y để tìm x\n",
    "yy = A @ x                  # Tính Ax để kiểm tra\n",
    "diff = np.linalg.norm(yy - y)  # Tính ||Ax - y||2  # Sai số\n",
    "# ...\n",
    "\n",
    "print(f\"+ Ma tran A: \\n{A}\")\n",
    "print(f\"+ Vector y: {y}\")\n",
    "print(f\"+ Nghiem x: {x}\")\n",
    "print(f\"+ Kiem tra: yy = Ax = {yy} ==> ||yy -y ||_2 = {diff: .2f}\")"
   ]
  },
  {
   "cell_type": "markdown",
   "id": "dcc4606f",
   "metadata": {},
   "source": [
    "## Bài tập áp dụng"
   ]
  },
  {
   "cell_type": "markdown",
   "id": "7bde2266",
   "metadata": {},
   "source": [
    "### Bài 3. Tính gần đúng số pi dùng phương pháp Monte Carlo\n",
    "\n",
    "Vẽ một đường tròn $C$ có bán kính $r$ nội tiếp một hình vuông $C$, và đặt ngẫu nhiên $N$ chấm lên hình vuông. Tỉ lệ các chấm nằm trong hình tròn trên tổng số chấm xấp xỉ bằng diện tích của hình tròn chia cho hình vuông như sau:\n",
    "$$\n",
    "\\frac{N_C}{N} \\approx  \\frac{\\mathbb{S}_C}{\\mathbb{S}_N}\n",
    "$$\n",
    "nơi mà $N_C$ là các chấm trong hình tròn, $N$ là tổng số chấm, $\\mathbb{S}_C$ và $\\mathbb{S}_N$ lần lượt là diện tích của hình tròn và hình vuông.\n",
    "$$ \\mathbb{S}_C = \\pi * r^2 $$\n",
    "$$ \\mathbb{S}_N = (2*r)^2 = 4r^2 $$\n",
    "Do đó, công thức trên trở thành:\n",
    "$$\n",
    "\\frac{N_C}{N} \\approx \\frac{\\pi * r^2}{4r^2} = \\frac{\\pi}{4}\n",
    "$$\n",
    "Suy ra, ta có giá trị số $\\pi$ được tính như sau:\n",
    "$$\n",
    "\\pi \\approx \\frac{4N_C}{N}\n",
    "$$\n",
    "\n",
    "Các bạn hãy lập trình tính sấp xỉ số $\\pi$ dùng phương pháp Monte Carlo. Cho biết các sai số với $N = 100$, $N = 10000$, và $N = 1000000$. Vẽ đồ thị minh họa cho chương trình.\n",
    "\n",
    "**Hướng dẫn**: Viết chương trình phát sinh $N$ điểm $(x_i, y_i)$ với $x_i, y_i \\in [-1, -1]$. $(x_i, y_i)$ thuộc hình tròn tâm $(0, 0)$ bán kính 1 nội tiếp hình vuông có tâm tại $(0, 0)$ độ dài cạnh 2 khi và chỉ khi $x_i^2 + y_i^2 <= 1$."
   ]
  },
  {
   "cell_type": "code",
   "execution_count": 32,
   "id": "2a0d081b",
   "metadata": {},
   "outputs": [
    {
     "data": {
      "image/png": "[encoded data removed]",
      "text/plain": [
       "<Figure size 600x600 with 1 Axes>"
      ]
     },
     "metadata": {},
     "output_type": "display_data"
    }
   ],
   "source": [
    "import matplotlib.pyplot as plt # khai báo thư viện vẽ pyplot\n",
    "import math\n",
    "\n",
    "circle = plt.Circle((0, 0), 1, color='g') # tạo đối tượng vòng tròn\n",
    "\n",
    "fig, ax = plt.subplots(figsize=(6, 6)) # lấy figure và vùng vẽ\n",
    "\n",
    "plt.plot(0, 0, 'o', color=(0.9, 0.9, 1.0), alpha=0.8) # vẽ điểm tại tâm (0,0)\n",
    "ax.add_patch(circle) # thêm vòng tròn vào vùng vẽ\n",
    "\n",
    "x = 0.75; y = math.sqrt(1 - (x ** 2)) # (x = 0.75, y = căn bậc 2 của 1 - x^2)\n",
    "plt.arrow(0, 0, x, y)\n",
    "\n",
    "plt.xlim(-1, 1) # giới hạn trục x\n",
    "plt.ylim(-1, 1) # giới hạn trục y\n",
    "\n",
    "plt.savefig('pi.png') # lưu đồ thị xuống tập tin\n",
    "plt.show()            # hiển thị đồ thị"
   ]
  },
  {
   "cell_type": "code",
   "execution_count": 34,
   "id": "246e5e39",
   "metadata": {},
   "outputs": [],
   "source": [
    "import numpy as np\n",
    "\n",
    "def calc_pi_monte_carlo(n = 100):\n",
    "    pi = 0\n",
    "    \n",
    "    # gợi ý: sử dụng np.random.rand(s1, s2, ...) --> sinh ngẫu nhiên các số trong nửa đoạn [0.0, 1.0)\n",
    "    x = np.random.rand(n)  # sinh n số ngẫu nhiên trong [0, 1)\n",
    "    y = np.random.rand(n)  # sinh n số ngẫu nhiên trong [0, 1)\n",
    "    # Tính số điểm nằm trong góc phần tư của hình tròn\n",
    "    inside_circle = (x**2 + y**2) <= 1  # Mảng boolean đánh dấu các điểm nằm trong góc phần tư\n",
    "    count_inside = np.sum(inside_circle)  # Đếm số điểm nằm trong góc phần tư\n",
    "    # Tính giá trị xấp xỉ của π\n",
    "    pi = (count_inside / n) * 4  # π xấp xỉ = 4 * (số điểm trong góc phần tư / tổng số điểm)    \n",
    "    # Hoặc dùng np.linalg.norm để tính khoảng cách từ gốc tọa độ đến điểm (x[i], y[i])\n",
    "    # distances = np.linalg.norm(np.vstack((x, y)).T, axis=1)  # Tính khoảng cách từ gốc tọa độ đến các điểm\n",
    "    # inside_circle = distances <= 1  # Mảng boolean đánh dấu các điểm nằm trong góc phần tư\n",
    "    # count_inside = np.sum(inside_circle)  # Đếm số điểm nằm trong góc phần tư\n",
    "    # pi = (count_inside / n) * 4  # π xấp xỉ = 4 * (số điểm trong góc phần tư / tổng số điểm)  \n",
    "    # ...\n",
    "    \n",
    "    return pi\n",
    "# calc_pi_monte_carlo"
   ]
  },
  {
   "cell_type": "code",
   "execution_count": 35,
   "id": "feff50f6",
   "metadata": {},
   "outputs": [
    {
     "name": "stdout",
     "output_type": "stream",
     "text": [
      "epsilon(n=100):  -0.2215926535897932\n",
      "epsilon(n=100):  -0.14159265358979312\n",
      "epsilon(n=10000):  -0.018792653589793318\n",
      "epsilon(n=10000):  0.002007346410207056\n",
      "epsilon(n=1000000):  -0.00014465358979309784\n",
      "epsilon(n=1000000):  -0.0023366535897930696\n"
     ]
    }
   ],
   "source": [
    "import math\n",
    "\n",
    "print(\"epsilon(n=100): \", calc_pi_monte_carlo(n = 100) - math.pi)\n",
    "print(\"epsilon(n=100): \", calc_pi_monte_carlo(n = 100) - math.pi)\n",
    "print(\"epsilon(n=10000): \", calc_pi_monte_carlo(n = 10000) - math.pi)\n",
    "print(\"epsilon(n=10000): \", calc_pi_monte_carlo(n = 10000) - math.pi)\n",
    "print(\"epsilon(n=1000000): \", calc_pi_monte_carlo(n = 1000000) - math.pi)\n",
    "print(\"epsilon(n=1000000): \", calc_pi_monte_carlo(n = 1000000) - math.pi)"
   ]
  },
  {
   "cell_type": "markdown",
   "id": "28f69556",
   "metadata": {},
   "source": [
    "# Kết Thúc"
   ]
  }
 ],
 "metadata": {
  "kernelspec": {
   "display_name": "Python 3 (ipykernel)",
   "language": "python",
   "name": "python3"
  },
  "language_info": {
   "codemirror_mode": {
    "name": "ipython",
    "version": 3
   },
   "file_extension": ".py",
   "mimetype": "text/x-python",
   "name": "python",
   "nbconvert_exporter": "python",
   "pygments_lexer": "ipython3",
   "version": "3.12.7"
  }
 },
 "nbformat": 4,
 "nbformat_minor": 5
}
