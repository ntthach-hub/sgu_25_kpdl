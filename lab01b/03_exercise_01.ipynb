{
 "cells": [
  {
   "cell_type": "markdown",
   "id": "f313a661",
   "metadata": {},
   "source": [
    "## 1. Nhập/xuất, biểu thức tính toán"
   ]
  },
  {
   "cell_type": "markdown",
   "id": "4e365a3c",
   "metadata": {},
   "source": [
    "### Bài 1. Tính giá trị hàm số\n",
    "**Yêu cầu**: Hãy viết chương trình nhập vào số thực x và tính giá trị biểu thức:\n",
    "$$\n",
    "    f\\left(x\\right) = x + \\frac{x^5}{5!} + \\frac{\\sqrt{|x|}}{x^{3/2}}\n",
    "$$\n",
    "> Moi ban nhap vao gia tri cua bien so x: **2.3** <br/>\n",
    "> Gia tri cua ham so f(**2.3**) = **3.27**."
   ]
  },
  {
   "cell_type": "code",
   "execution_count": 3,
   "id": "1a3812fa",
   "metadata": {},
   "outputs": [
    {
     "name": "stdout",
     "output_type": "stream",
     "text": [
      "Gia tri cua ham so f(2.3) =  3.27.\n"
     ]
    }
   ],
   "source": [
    "# Khai báo thư viện\n",
    "import math\n",
    "\n",
    "# Nhập dữ liệu\n",
    "x = float(input(\"Moi ban nhap vao gia tri cua bien so x: \"))\n",
    "# Xử lý\n",
    "f_x = x + (x**5) / math.factorial(5) + math.sqrt(abs(x)) / (x**(3/2))\n",
    "# ...\n",
    "\n",
    "# Xuất dữ liệu\n",
    "print(f'Gia tri cua ham so f({x}) = {f_x: .2f}.')"
   ]
  },
  {
   "cell_type": "markdown",
   "id": "d97f6917",
   "metadata": {},
   "source": [
    "### Bài 2. Đổi sang giờ phút giây\n",
    "Một thiết bị hoạt động được t giây. Hãy viết chương trình chuyển số giây đó dưới dạng số giờ, số phút và số giây.\n",
    ">Nhap vao tong so giay: **4810** <br/>\n",
    ">**4810** giay co dang **1:20:10**"
   ]
  },
  {
   "cell_type": "code",
   "execution_count": 6,
   "id": "54918a00",
   "metadata": {},
   "outputs": [
    {
     "name": "stdout",
     "output_type": "stream",
     "text": [
      "4810 giay co dang 1:20:10\n"
     ]
    }
   ],
   "source": [
    "t = int(input(\"Nhap vao tong so giay: \"))\n",
    "t_goc = t  # lưu lại giá trị ban đầu\n",
    "hh = t // 3600\n",
    "t = t % 3600\n",
    "mm = t // 60\n",
    "ss = t % 60\n",
    "print(f'{t_goc} giay co dang {hh}:{mm:02}:{ss:02}')"
   ]
  },
  {
   "cell_type": "markdown",
   "id": "0fc8e158",
   "metadata": {},
   "source": [
    "### Bài 3. Giải phuơng trình bậc 1\n",
    "Nhập 2 số thực $a$, $b$. Tìm nghiệm của phương trình bậc 1 $ax + b = 0$.\n",
    ">Moi ban nhap he so a: **1** <br/>\n",
    ">Moi ban nhap he so b: **5** <br/>\n",
    ">Phuong trinh **1x + 5 = 0** co **1** nghiem x = **-5.00**."
   ]
  },
  {
   "cell_type": "code",
   "execution_count": null,
   "id": "9a0edf6f",
   "metadata": {},
   "outputs": [
    {
     "name": "stdout",
     "output_type": "stream",
     "text": [
      "Phuong trinh 1x + 5 = 0 co 1 nghiem x = -5.00.\n"
     ]
    }
   ],
   "source": [
    "# nhap du lieu\n",
    "a = int(input(\"Nhap vao he so a: \"))\n",
    "b = int(input(\"Nhap vao he so b: \")) \n",
    "\n",
    "# xu ly\n",
    "if a  == 0:\n",
    "    if b == 0:\n",
    "        flag = -1  # vo so nghiem\n",
    "    else:\n",
    "        flag = 0   # vo nghiem\n",
    "else:\n",
    "    x = -b / a\n",
    "    flag = 1      # co 1 nghiem\n",
    "#xuat du lieu\n",
    "s = f'Phuong trinh {a}x + {b} = 0'\n",
    "if flag == -1:\n",
    "    print(f'{s} vo so nghiem.')\n",
    "elif flag == 0:\n",
    "    print(f'{s} vo nghiem.')\n",
    "else:\n",
    "    print(f'{s} co 1 nghiem x = {x: .2f}.')"
   ]
  },
  {
   "cell_type": "markdown",
   "id": "1d3f10e1",
   "metadata": {},
   "source": [
    "### Bài 4. Chuyển ký số sang số\n",
    "Nhập một chuỗi s là chuỗi biểu diễn ký tự số trong tiếng Anh gồm {zero, one, two, three, four, five, six, seven, eight, nine}. Hãy kiểm tra chuỗi nhập có hợp lệ không? Nếu hợp lệ thì in ra ký số của chuỗi đó và chuỗi ký số bên tiếng việt tương ứng.\n",
    "> Moi ban nhap chuoi ky so s: One <br/>\n",
    "> Chuoi vua nhap hop le! \n",
    "> \"One\" bieu dien so cho \"1\" va ung voi tieng Viet \"mot\".\n",
    "\n",
    "> Moi ban nhap chuoi ky so s: hello <br/>\n",
    "> Chuoi vua nhap khong hop le!"
   ]
  },
  {
   "cell_type": "code",
   "execution_count": 6,
   "id": "299b082b",
   "metadata": {},
   "outputs": [
    {
     "name": "stdout",
     "output_type": "stream",
     "text": [
      "Chu vua nhap hop le! 'zero' bieu dien so cho '0' va ung voi tieng viet 'khong'.\n"
     ]
    }
   ],
   "source": [
    "s = input(\"Moi ban nhap chuoi ky so s: \").strip().lower()\n",
    "# xu ly\n",
    "\n",
    "en  = [\"zero\", \"one\", \"two\", \"three\", \"four\", \"five\", \"six\", \"seven\", \"eight\", \"nine\"]\n",
    "vi  = [\"khong\", \"mot\", \"hai\", \"ba\", \"bon\", \"nam\", \"sau\", \"bay\", \"tam\", \"chin\"]\n",
    "num = [0, 1, 2, 3, 4, 5, 6, 7, 8, 9]\n",
    "if s in en:\n",
    "    idx = en.index(s)\n",
    "    print(f\"Chu vua nhap hop le! '{en[idx]}' bieu dien so cho '{num[idx]}' va ung voi tieng viet '{vi[idx]}'.\")\n",
    "else:\n",
    "    print(\"Chu vua nhap khong hop le!\")\n",
    "# ..."
   ]
  },
  {
   "cell_type": "markdown",
   "id": "b46e285a",
   "metadata": {},
   "source": [
    "## 3. Cấu trúc lặp"
   ]
  },
  {
   "cell_type": "markdown",
   "id": "ac2bb932",
   "metadata": {},
   "source": [
    "### Bài 5. Tính tổng các số chẵn\n",
    "Nhập một số nguyên n. Hãy tính tổng các số chẵn từ 1 đến n.\n",
    "> Moi ban nhap so nguyen n: **100** <br>\n",
    "> Tong cac so chan tu 1 den **100** la **2550**."
   ]
  },
  {
   "cell_type": "code",
   "execution_count": 7,
   "id": "ef173c7b",
   "metadata": {},
   "outputs": [
    {
     "name": "stdout",
     "output_type": "stream",
     "text": [
      "Tong cac so chan tu 1 den 10 la 30.\n"
     ]
    }
   ],
   "source": [
    "# Nhập dữ liệu\n",
    "n   = int(input(\"Moi ban nhap so nguyen n: \"))\n",
    "\n",
    "# Xuất dữ liệu\n",
    "s   = 0\n",
    "for i in range (2, n+1, 2):\n",
    "    s += i\n",
    "# ...\n",
    "\n",
    "print(f'Tong cac so chan tu 1 den {n} la {s}.')"
   ]
  },
  {
   "cell_type": "markdown",
   "id": "ccf23322",
   "metadata": {},
   "source": [
    "### Bài 6. Kiểm tra số nguyên tố\n",
    "\n",
    "Nhập vào một số nguyên dương n. Hãy kiểm tra xem n có phải là nguyên tố không?\n",
    "> Moi nhap nhap so nguyen n: **10** <br/>\n",
    "> **10** khong phai la so nguyen to.\n",
    "\n",
    "> Moi nhap nhap so nguyen n: **97** <br/>\n",
    "> **97** la so nguyen to.\n",
    "\n",
    "**Lưu ý**: n là số nguyên tố khi và chỉ khi không tồn tại số nguyên từ $2$ đến $\\sqrt(n)$ mà chia hết cho n."
   ]
  },
  {
   "cell_type": "code",
   "execution_count": 13,
   "id": "8ffe148e",
   "metadata": {},
   "outputs": [
    {
     "name": "stdout",
     "output_type": "stream",
     "text": [
      "10 khong la so nguyen to.\n"
     ]
    }
   ],
   "source": [
    "import math\n",
    "# Nhập dữ liệu\n",
    "n   = int(input(\"Moi ban nhap so nguyen n: \"))\n",
    "\n",
    "# Xử lý \n",
    "lant = True\n",
    "if n < 2:\n",
    "    lant = False\n",
    "else:\n",
    "    for i in range(2, int(math.sqrt(n)+1)):\n",
    "        if n % i == 0:\n",
    "            lant = False\n",
    "        break\n",
    "# Xuất dữ liệu\n",
    "if lant == True:\n",
    "    print(f'{n} la so nguyen to.')\n",
    "else:\n",
    "    print(f'{n} khong la so nguyen to.')"
   ]
  },
  {
   "cell_type": "markdown",
   "id": "2ed81679",
   "metadata": {},
   "source": [
    "## 4. Xử lý ngoại lệ và hàm số"
   ]
  },
  {
   "cell_type": "markdown",
   "id": "08a0a416",
   "metadata": {},
   "source": [
    "### Bài 7. Giải phương trình bậc 2\n",
    "Nhập 3 số thực a, b, c (có kiểm tra dữ liệu nhập số thực). Hãy xây dựng hàm giải phương trình bậc 2 $ax^2+bx+c=0$ và in kết quả giải ra màn hình.\n",
    "> Moi ban nhap he so a, b, c:  **a b c**<br/>\n",
    "> Ban nhap sai! Moi ban nhap lai!<br/>\n",
    "> Moi ban nhap he so a, b, c:  **1 a 3**<br/>\n",
    "> Ban nhap sai! Moi ban nhap lai!<br/>\n",
    "> Moi ban nhap he so a, b, c: **1 5 6**<br/>\n",
    "> Phuong trinh bac 2 **1x^2 + 5x + 6 = 0** co **2**  nghiem x1 = **-2.00**, x2 = **-3.00**."
   ]
  },
  {
   "cell_type": "code",
   "execution_count": 34,
   "id": "7274c8d6",
   "metadata": {},
   "outputs": [],
   "source": [
    "def NhapDuLieu():\n",
    "    while True:\n",
    "        try:\n",
    "            a = float(input(\"Moi ban vao he so a: \"))\n",
    "            b = float(input(\"Moi ban vao he so b: \"))\n",
    "            c = float(input(\"Moi ban vao he so c: \"))\n",
    "            return a, b, c\n",
    "        except ValueError:\n",
    "            print(\"Ban vua nhap khong phai la so. Moi ban nhap lai!\")\n",
    "\n",
    "# NhapDuLieu"
   ]
  },
  {
   "cell_type": "code",
   "execution_count": 35,
   "id": "bc4af4ae",
   "metadata": {},
   "outputs": [],
   "source": [
    "# Kiểm tra hàm\n",
    "a, b, c = NhapDuLieu()"
   ]
  },
  {
   "cell_type": "code",
   "execution_count": 36,
   "id": "bfd82a6c",
   "metadata": {},
   "outputs": [],
   "source": [
    "def GiaiPhuongTrinhBac2(a, b, c):\n",
    "    \"\"\"\n",
    "    Input: a, b, c\n",
    "    Output: \n",
    "    + flag = -1 (VSN), 0 (VN), k (k nghiem)\n",
    "    + () --> flag = -1, 0\n",
    "    + (x) --> flag = 1\n",
    "    + (x1, x2) --> flag = 2\n",
    "    \"\"\"\n",
    "    import math\n",
    "    flag = None\n",
    "    x = ()\n",
    "    \n",
    "    if a == 0:\n",
    "        if b==0:\n",
    "            if c==0:\n",
    "                flag = -1\n",
    "                \n",
    "            else:\n",
    "                flag = 0\n",
    "               \n",
    "        else:\n",
    "            x = (-c / b,)\n",
    "            flag = 1       # 1 nghiệm\n",
    "    else:  # phương trình bậc 2\n",
    "        delta = b**2 - 4*a*c\n",
    "        if delta < 0:\n",
    "            flag = 0  # vô nghiệm\n",
    "        elif delta == 0:\n",
    "            x = (-b / (2*a),)\n",
    "            flag = 1  # nghiệm kép\n",
    "        else:\n",
    "            x1 = (-b + math.sqrt(delta)) / (2*a)\n",
    "            x2 = (-b - math.sqrt(delta)) / (2*a)\n",
    "            x = (x1, x2)\n",
    "            flag = 2\n",
    "\n",
    "    return flag, x\n",
    "# GiaiPhuongTrinhBac2"
   ]
  },
  {
   "cell_type": "code",
   "execution_count": 37,
   "id": "dca74cf7",
   "metadata": {},
   "outputs": [
    {
     "name": "stdout",
     "output_type": "stream",
     "text": [
      "a = 0\n",
      "So nghiem: -1, nghiem = ()\n",
      "So nghiem: 0, nghiem = ()\n",
      "So nghiem: 1, nghiem = (-1.2,)\n",
      "a <> 0\n",
      "So nghiem: 0, nghiem = ()\n",
      "So nghiem: 1, nghiem = (-1.0,)\n",
      "So nghiem: 2, nghiem = (-2.0, -3.0)\n"
     ]
    }
   ],
   "source": [
    "print(\"a = 0\")\n",
    "flag, x = GiaiPhuongTrinhBac2(0, 0, 0)\n",
    "print(f'So nghiem: {flag}, nghiem = {x}')\n",
    "flag, x = GiaiPhuongTrinhBac2(0, 0, 5)\n",
    "print(f'So nghiem: {flag}, nghiem = {x}')\n",
    "flag, x = GiaiPhuongTrinhBac2(0, 5, 6)\n",
    "print(f'So nghiem: {flag}, nghiem = {x}')\n",
    "\n",
    "print(\"a <> 0\")\n",
    "flag, x = GiaiPhuongTrinhBac2(5, 1, 2)\n",
    "print(f'So nghiem: {flag}, nghiem = {x}')\n",
    "flag, x = GiaiPhuongTrinhBac2(1, 2, 1)\n",
    "print(f'So nghiem: {flag}, nghiem = {x}')\n",
    "flag, x = GiaiPhuongTrinhBac2(1, 5, 6)\n",
    "print(f'So nghiem: {flag}, nghiem = {x}')"
   ]
  },
  {
   "cell_type": "code",
   "execution_count": 38,
   "id": "674b9e02",
   "metadata": {},
   "outputs": [
    {
     "name": "stdout",
     "output_type": "stream",
     "text": [
      "Phuong trinh bac 2 1.0x^2 + 5.0x + 6.0 = 0 co 2 nghiem, x1 = -2.0, x2 = -3.0!\n"
     ]
    }
   ],
   "source": [
    "# Kết nối bài\n",
    "a, b, c = NhapDuLieu()\n",
    "# Gọi hàm giải\n",
    "flag, x = GiaiPhuongTrinhBac2(1, 5, 6)\n",
    "# Xuất dữ liệu\n",
    "s = f'Phuong trinh bac 2 {a}x^2 + {b}x + {c} = 0'\n",
    "if flag == -1:\n",
    "    print(f'{s} co vo so nghiem!')\n",
    "elif flag == 0:\n",
    "    print(f'{s} vo nghiem!')\n",
    "elif flag == 1:\n",
    "    print(f'{s} co 1 nghiem, x = {x[0]}!')\n",
    "elif flag == 2:\n",
    "    print(f'{s} co 2 nghiem, x1 = {x[0]}, x2 = {x[1]}!')\n",
    "# if"
   ]
  },
  {
   "cell_type": "markdown",
   "id": "2974d959",
   "metadata": {},
   "source": [
    "## 5. Dữ liệu nâng cao (List, Tuple, Set, Dictionary)"
   ]
  },
  {
   "cell_type": "markdown",
   "id": "5b60f00f",
   "metadata": {},
   "source": [
    "### Bài 8. Các thao tác xử lý mảng số\n",
    "\n",
    "Viết chương trình xây dựng các hàm sau cho List và kiểm tra tính đúng đắn của các hàm số:\n",
    "+ Nhập một mảng số từ bàn phím cách nhau bởi khoảng trắng. Xuất mảng ra màn hình. <br/>\n",
    "+ Sinh một mảng số ngẫu nhiên có n phần tử trong khoảng a, b.\n",
    "+ Tính tổng của mảng số, đếm các phần tử chẵn, lẻ trong mảng.\n",
    "+ Cho một mảng số, hãy trả về dãy chẳn, dãy lẻ.\n",
    "\n",
    "> a = NhapMang() <br/>\n",
    "> XuatMang(a) <br/>\n",
    "> b = SinhNgauNhien(10, -10, 10) <br/>\n",
    "> XuatMang(b) <br/>\n",
    "> tong, chan, le = TinhTongChanLe(b) <br/>\n",
    "> a_chan, a_le = TimChanLe(b) <br/>"
   ]
  },
  {
   "cell_type": "code",
   "execution_count": null,
   "id": "6c9d6596",
   "metadata": {},
   "outputs": [],
   "source": [
    "def NhapMang():\n",
    "    \"\"\"\n",
    "    Input:\n",
    "        Ban phim = 1 4 1 2 3 4 1 2 3 3 1 2 3 4 10 2\n",
    "    Output:\n",
    "        a = [1, 4, 1, 2, 3, 4, 1, 2, 3, 3, 1, 2, 3, 4, 10, 2]\n",
    "    \"\"\"\n",
    "    a = list(map(int, input(\"Moi ban nhap mang: \").strip().split()))\n",
    "    \n",
    "    return a\n",
    "# NhapMang"
   ]
  },
  {
   "cell_type": "code",
   "execution_count": 40,
   "id": "3f4b29f5",
   "metadata": {},
   "outputs": [
    {
     "name": "stdout",
     "output_type": "stream",
     "text": [
      "[1, 4, 1, 2, 3, 4, 1, 2, 3, 3, 1, 2, 3, 4, 10, 2]\n"
     ]
    }
   ],
   "source": [
    "a = NhapMang() # 1 4 1 2 3 4 1 2 3 3 1 2 3 4 10 2\n",
    "print(a)"
   ]
  },
  {
   "cell_type": "code",
   "execution_count": 50,
   "id": "1d3f78c1",
   "metadata": {},
   "outputs": [],
   "source": [
    "def XuatMang(a):\n",
    "    \"\"\"\n",
    "    Input:\n",
    "        a = [1, 4, 1, 2, 3, 4, 1, 2, 3, 3, 1, 2, 3, 4, 10, 2]\n",
    "    Output: \n",
    "        In ra man hinh:\n",
    "            Mang co 16 phan tu: 1 4 1 2 3 4 1 2 3 3 1 2 3 4 10 2 \n",
    "    \"\"\"\n",
    "    print(\"Mang co\", len(a), \"phan tu:\", end=\" \")\n",
    "    for i in a:\n",
    "        print(i, end=\" \")\n",
    "    print()\n",
    "    # ...\n",
    "    \n",
    "# XuatMang"
   ]
  },
  {
   "cell_type": "code",
   "execution_count": 51,
   "id": "0b3b6aee",
   "metadata": {},
   "outputs": [
    {
     "name": "stdout",
     "output_type": "stream",
     "text": [
      "Mang co 16 phan tu: 1 4 1 2 3 4 1 2 3 3 1 2 3 4 10 2 \n"
     ]
    }
   ],
   "source": [
    "a = [1, 4, 1, 2, 3, 4, 1, 2, 3, 3, 1, 2, 3, 4, 10, 2]\n",
    "XuatMang(a)"
   ]
  },
  {
   "cell_type": "code",
   "execution_count": 52,
   "id": "f87f62a3",
   "metadata": {},
   "outputs": [],
   "source": [
    "import random\n",
    "def SinhNgauNhien(n, vmin = -10, vmax = 10):\n",
    "    \"\"\"\n",
    "    Input:\n",
    "        n = 30, vmin = -10, vmax = 10\n",
    "    Output:\n",
    "        a = [-1, -4, -8, 6, 4, -5, -1, -4, -9, -5, -10, 0, -6, 2, 1, -9, -9, 10, -8, -9, -7, 9, 2, -4, -1, -6, 5, -6, 9, -8]\n",
    "    \"\"\"    \n",
    "    a = []\n",
    "    for i in range(n):\n",
    "        a.append(random.randint(vmin, vmax))\n",
    "    return a\n",
    "# SinhNgauNhien"
   ]
  },
  {
   "cell_type": "code",
   "execution_count": 53,
   "id": "bc9331b4",
   "metadata": {},
   "outputs": [
    {
     "name": "stdout",
     "output_type": "stream",
     "text": [
      "[-5, -8, 8, 10, 3, -4, -8, 5, -9, -5, 6, -10, 3, 8, -10, -10, 1, 2, -3, -10, -9, -3, -6, 6, -10, 0, 5, -5, -1, -3]\n",
      "[2, 8, 1, 4, 7, 1, 4, 8, 2, 8, 3, 4, 4, 6, 10, 0, 4, 6, 4, 6, 9, 4, 0, 7, 7, 8, 5, 10, 4, 10]\n",
      "[-3, -6, -7, -6, -3, -2, -4, -10, -9, -1, -7, -1, 0, -2, -5, -6, 2, -4, -8, -4, -6, -2, -4, -4, 2, -7, -2, -9, -5, -8]\n"
     ]
    }
   ],
   "source": [
    "b = SinhNgauNhien(30, -10, 10)\n",
    "print(b)\n",
    "b = SinhNgauNhien(30, vmin = 0)\n",
    "print(b)\n",
    "b = SinhNgauNhien(30, vmax = 2)\n",
    "print(b)"
   ]
  },
  {
   "cell_type": "code",
   "execution_count": 56,
   "id": "d5109492",
   "metadata": {},
   "outputs": [],
   "source": [
    "def DemTongChanLe(a):\n",
    "    \"\"\"\n",
    "    Input: a[] = [1, 4, 2, 0, -1, -7, 3, -6, 4, 9, -5, 7, 7, -7, -10, 1, -10, 9, -4, -6, 10, -2, -10, -8, -3, 2, -7, -10, 6, 0]\n",
    "    Output: tong, sochan, sole\n",
    "    \"\"\"\n",
    "    tong = 0\n",
    "    sochan = 0\n",
    "    sole = 0\n",
    "    \n",
    "    for i in a:\n",
    "        tong += i\n",
    "        if i % 2 == 0:\n",
    "            sochan += 1\n",
    "        else:\n",
    "            sole += 1\n",
    "    # ...\n",
    "    \n",
    "    return tong, sochan, sole\n",
    "# DemTongChanLe"
   ]
  },
  {
   "cell_type": "code",
   "execution_count": 57,
   "id": "94af36ed",
   "metadata": {},
   "outputs": [
    {
     "name": "stdout",
     "output_type": "stream",
     "text": [
      "(-31, 17, 13)\n",
      "(141, 17, 13)\n"
     ]
    }
   ],
   "source": [
    "a = [1, 4, 2, 0, -1, -7, 3, -6, 4, 9, -5, 7, 7, -7, -10, 1, -10, 9, -4, -6, 10, -2, -10, -8, -3, 2, -7, -10, 6, 0]\n",
    "print(DemTongChanLe(a))\n",
    "a = [9, 6, 5, 0, 8, 8, 1, 10, 0, 0, 1, 1, 2, 7, 1, 10, 9, 1, 10, 8, 2, 8, 4, 5, 4, 5, 5, 3, 6, 2]\n",
    "print(DemTongChanLe(a))"
   ]
  },
  {
   "cell_type": "code",
   "execution_count": 60,
   "id": "c33e00a8",
   "metadata": {},
   "outputs": [],
   "source": [
    "def DayChanLe(a): # Gia tri tra ve\n",
    "    \"\"\"\n",
    "    Input:\n",
    "        a = [1, 4, 2, 0, -1, -7, 3, -6, 4, 9, -5, 7, 7, -7, -10, 1, -10, 9, -4, -6, 10, -2, -10, -8, -3, 2, -7, -10, 6, 0]\n",
    "    Output: (achan, ale)\n",
    "        achan = [4, 2, 0, -6, 4, -10, -10, -4, -6, 10, -2, -10, -8, 2, -10, 6, 0]\n",
    "        ale = [1, -1, -7, 3, 9, -5, 7, 7, -7, 1, 9, -3, -7]\n",
    "    \"\"\"    \n",
    "    achan = []\n",
    "    ale = []\n",
    "    \n",
    "    for i in a:\n",
    "        if i % 2 == 0:\n",
    "            achan.append(i)\n",
    "        else:\n",
    "            ale.append(i)\n",
    "    # ...\n",
    "    \n",
    "    return achan, ale\n",
    "# DayChanLe"
   ]
  },
  {
   "cell_type": "code",
   "execution_count": 61,
   "id": "9ef71583",
   "metadata": {},
   "outputs": [
    {
     "name": "stdout",
     "output_type": "stream",
     "text": [
      "DayChanLe:\n",
      "Chan = [4, 2, 0, -6, 4, -10, -10, -4, -6, 10, -2, -10, -8, 2, -10, 6, 0]\n",
      "Le = [1, -1, -7, 3, 9, -5, 7, 7, -7, 1, 9, -3, -7]\n",
      "\n"
     ]
    }
   ],
   "source": [
    "a = [1, 4, 2, 0, -1, -7, 3, -6, 4, 9, -5, 7, 7, -7, -10, 1, -10, 9, -4, -6, 10, -2, -10, -8, -3, 2, -7, -10, 6, 0]\n",
    "achan, ale = DayChanLe(a)\n",
    "print(f'DayChanLe:\\nChan = {achan}\\nLe = {ale}\\n')"
   ]
  },
  {
   "cell_type": "markdown",
   "id": "89a20638",
   "metadata": {},
   "source": [
    "### Bài 9. Các thao tác trên tập hợp, từ điển\n",
    "\n",
    "Viết chương trình nhập vào một dãy ký tự a cách nhau bởi khoảng trắng. Hãy thực hiện:\n",
    "+ In các ký tự trong a không trùng nhau và được sắp theo thứ tự tăng dần\n",
    "+ Đếm số lần xuất hiện các ký tự trong dãy a"
   ]
  },
  {
   "cell_type": "code",
   "execution_count": 7,
   "id": "d9504db8",
   "metadata": {},
   "outputs": [],
   "source": [
    "def XuLyKhongTrung(a):\n",
    "    \"\"\"\n",
    "    Input:\n",
    "        a = ['A', 'G', 'C', 'A', 'C', 'F', 'F', 'T', 'H']\n",
    "    Output:\n",
    "        s = ['A', 'C', 'F', 'G', 'H', 'T']\n",
    "    \"\"\"\n",
    "    s = set(a)\n",
    "    return sorted(s)\n"
   ]
  },
  {
   "cell_type": "code",
   "execution_count": 8,
   "id": "9d5e076d",
   "metadata": {},
   "outputs": [
    {
     "name": "stdout",
     "output_type": "stream",
     "text": [
      "['A', 'C', 'F', 'G', 'H', 'T']\n"
     ]
    }
   ],
   "source": [
    "a = ['A', 'G', 'C', 'A', 'C', 'F', 'F', 'T', 'H']\n",
    "b = XuLyKhongTrung(a)\n",
    "print(b)"
   ]
  },
  {
   "cell_type": "code",
   "execution_count": null,
   "id": "77104fc2",
   "metadata": {},
   "outputs": [],
   "source": [
    "def DemSoLanXuatHien(a):\n",
    "    \"\"\"\n",
    "    Input:\n",
    "        a = ['A', 'G', 'C', 'A', 'C', 'F', 'F', 'T', 'H']\n",
    "    Output:\n",
    "        dem = {'A': 2, 'G': 1, 'C': 2, 'F': 2, 'T': 1, 'H': 1}\n",
    "    \"\"\"\n",
    "    dem = {} # (k, v): k (ky tu) v (so lan xuat hien)\n",
    "    for i in a:\n",
    "        if i in dem:\n",
    "            dem[i] += 1\n",
    "        else:\n",
    "            dem[i] = 1\n",
    "    # ...    \n",
    "    \n",
    "    return dem\n",
    "# DemSoLanXuatHien"
   ]
  },
  {
   "cell_type": "code",
   "execution_count": 12,
   "id": "47fa362b",
   "metadata": {},
   "outputs": [
    {
     "name": "stdout",
     "output_type": "stream",
     "text": [
      "{'A': 2, 'G': 1, 'C': 2, 'F': 2, 'T': 1, 'H': 1}\n"
     ]
    }
   ],
   "source": [
    "a = ['A', 'G', 'C', 'A', 'C', 'F', 'F', 'T', 'H']\n",
    "b = DemSoLanXuatHien(a)\n",
    "print(b)    "
   ]
  },
  {
   "cell_type": "markdown",
   "id": "00bcfc65",
   "metadata": {},
   "source": [
    "# Kết thúc"
   ]
  }
 ],
 "metadata": {
  "kernelspec": {
   "display_name": "Python 3 (ipykernel)",
   "language": "python",
   "name": "python3"
  },
  "language_info": {
   "codemirror_mode": {
    "name": "ipython",
    "version": 3
   },
   "file_extension": ".py",
   "mimetype": "text/x-python",
   "name": "python",
   "nbconvert_exporter": "python",
   "pygments_lexer": "ipython3",
   "version": "3.12.7"
  }
 },
 "nbformat": 4,
 "nbformat_minor": 5
}
