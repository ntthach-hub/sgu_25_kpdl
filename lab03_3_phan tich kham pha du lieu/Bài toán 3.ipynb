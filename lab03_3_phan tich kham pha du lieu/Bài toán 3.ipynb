{
 "cells": [
  {
   "cell_type": "markdown",
   "id": "e60a9380",
   "metadata": {},
   "source": [
    "# 1.3 Phân tích đơn biến và hai biến"
   ]
  },
  {
   "cell_type": "markdown",
   "id": "d1d20831",
   "metadata": {},
   "source": [
    "## Bài toán 3: Thực hiện các nhiệm vụ trong bài toán 3 để làm quen với việc sử dụng các công cụ hỗ trợ EDA tự động. "
   ]
  },
  {
   "cell_type": "markdown",
   "id": "20f25f2b",
   "metadata": {},
   "source": [
    "### Nhiệm vụ 1: Sử dụng pandas profiling trên dữ liệu Customer Personality Analysis. Dữ liệu lấy tại \n",
    "https://www.kaggle.com/datasets/imakash3011/customer-personality-analysis "
   ]
  },
  {
   "cell_type": "markdown",
   "id": "8185e27d",
   "metadata": {},
   "source": [
    "#### 1. Cài đặt pandas_profiling sau này đổi tên thành ydata_profiling (xem thông tin chi tiết tại \n",
    "https://pypi.org/project/pandas-profiling/3.1.0) "
   ]
  },
  {
   "cell_type": "markdown",
   "id": "77b7c1d8",
   "metadata": {},
   "source": [
    "#### 2. Sử dụng công cụ "
   ]
  },
  {
   "cell_type": "code",
   "execution_count": null,
   "id": "870ad9e7",
   "metadata": {},
   "outputs": [
    {
     "data": {
      "text/html": [
       "\n",
       "            <div>\n",
       "                <ins><a href=\"https://ydata.ai/register\">Upgrade to ydata-sdk</a></ins>\n",
       "                <p>\n",
       "                    Improve your data and profiling with ydata-sdk, featuring data quality scoring, redundancy detection, outlier identification, text validation, and synthetic data generation.\n",
       "                </p>\n",
       "            </div>\n",
       "            "
      ],
      "text/plain": [
       "<IPython.core.display.HTML object>"
      ]
     },
     "metadata": {},
     "output_type": "display_data"
    },
    {
     "data": {
      "application/vnd.jupyter.widget-view+json": {
       "model_id": "c9f62bf1e34c48cdb52c1355bcab3425",
       "version_major": 2,
       "version_minor": 0
      },
      "text/plain": [
       "Summarize dataset:   0%|          | 0/5 [00:00<?, ?it/s]"
      ]
     },
     "metadata": {},
     "output_type": "display_data"
    },
    {
     "name": "stderr",
     "output_type": "stream",
     "text": [
      "100%|██████████| 1/1 [00:00<00:00,  4.04it/s]\n",
      "c:\\Users\\thach\\anaconda3\\Lib\\site-packages\\ydata_profiling\\visualisation\\utils.py:73: UserWarning: Glyph 9 (\t) missing from font(s) Arial.\n",
      "  plt.savefig(\n",
      "c:\\Users\\thach\\anaconda3\\Lib\\site-packages\\ydata_profiling\\visualisation\\utils.py:73: UserWarning: Glyph 9 (\t) missing from font(s) Arial.\n",
      "  plt.savefig(\n"
     ]
    },
    {
     "data": {
      "application/vnd.jupyter.widget-view+json": {
       "model_id": "7326c7c18d9142d1a642ee2242f0ce82",
       "version_major": 2,
       "version_minor": 0
      },
      "text/plain": [
       "Generate report structure:   0%|          | 0/1 [00:00<?, ?it/s]"
      ]
     },
     "metadata": {},
     "output_type": "display_data"
    },
    {
     "data": {
      "application/vnd.jupyter.widget-view+json": {
       "model_id": "9e2e252bb8e644f8beda4d2dd9371832",
       "version_major": 2,
       "version_minor": 0
      },
      "text/plain": [
       "Render HTML:   0%|          | 0/1 [00:00<?, ?it/s]"
      ]
     },
     "metadata": {},
     "output_type": "display_data"
    },
    {
     "data": {
      "application/vnd.jupyter.widget-view+json": {
       "model_id": "b75caca849de468d85625d9dc4dc1ea9",
       "version_major": 2,
       "version_minor": 0
      },
      "text/plain": [
       "Export report to file:   0%|          | 0/1 [00:00<?, ?it/s]"
      ]
     },
     "metadata": {},
     "output_type": "display_data"
    }
   ],
   "source": [
    "import pandas as pd \n",
    "from ydata_profiling import ProfileReport \n",
    "marketing_data = pd.read_csv(\"marketing_campaign.csv\") \n",
    "# Create an Automated EDA report using the ProfileReport class in the ydata_profiling library. Use the to_file method to output the report to an HTML file\n",
    "profile = ProfileReport(marketing_data) \n",
    "profile.to_file(\"Reports/profile_output.html\")  "
   ]
  },
  {
   "cell_type": "markdown",
   "id": "e6b2945a",
   "metadata": {},
   "source": [
    "#### 3. Tiến hành EDA trên trang tập tin **profile_output.html**"
   ]
  },
  {
   "cell_type": "code",
   "execution_count": 2,
   "id": "bbcb646f",
   "metadata": {},
   "outputs": [],
   "source": [
    "import os\n",
    "os.startfile(\"Reports\\\\profile_output.html\")"
   ]
  },
  {
   "cell_type": "markdown",
   "id": "59150d01",
   "metadata": {},
   "source": [
    "### Nhiệm vụ 2: Sử dụng dtale trên dữ liệu Marketing Campaign. \n",
    "Dữ liệu lấy từ https://www.kaggle.com/datasets/imakash3011/customer-personality-analysis "
   ]
  },
  {
   "cell_type": "markdown",
   "id": "84da0db2",
   "metadata": {},
   "source": [
    "#### 1. Cài đặt dtale (xem thông tin chi tiết tại https://dtale.readthedocs.io/en/latest/)  "
   ]
  },
  {
   "cell_type": "markdown",
   "id": "2fac452f",
   "metadata": {},
   "source": [
    "#### 2. Sử dụng công cụ "
   ]
  },
  {
   "cell_type": "code",
   "execution_count": 3,
   "id": "f9bf368c",
   "metadata": {},
   "outputs": [
    {
     "name": "stderr",
     "output_type": "stream",
     "text": [
      "c:\\Users\\thach\\anaconda3\\Lib\\site-packages\\kaleido\\_sync_server.py:11: UserWarning:\n",
      "\n",
      "\n",
      "\n",
      "Warning: You have Plotly version 5.24.1, which is not compatible with this version of Kaleido (1.1.0).\n",
      "\n",
      "This means that static image generation (e.g. `fig.write_image()`) will not work.\n",
      "\n",
      "Please upgrade Plotly to version 6.1.1 or greater, or downgrade Kaleido to version 0.2.1.\n",
      "\n",
      "\n"
     ]
    }
   ],
   "source": [
    "import pandas as pd \n",
    "import dtale \n",
    "marketing_data = pd.read_csv(\"marketing_campaign.csv\") \n",
    "dtale.show(marketing_data).open_browser()"
   ]
  },
  {
   "cell_type": "markdown",
   "id": "a43e6d37",
   "metadata": {},
   "source": [
    "### 1.3.3. Bài tập thực hành 1 — SweetViz\n",
    "Tạo báo cáo EDA tự động bằng SweetViz trên tập `marketing_campaign.csv` và lưu file HTML vào thư mục `Reports/`.\n"
   ]
  },
  {
   "cell_type": "code",
   "execution_count": null,
   "id": "815ff82a",
   "metadata": {},
   "outputs": [
    {
     "data": {
      "application/vnd.jupyter.widget-view+json": {
       "model_id": "cf85a4d4c32a466fb6d4893b2a13a957",
       "version_major": 2,
       "version_minor": 0
      },
      "text/plain": [
       "                                             |          | [  0%]   00:00 -> (? left)"
      ]
     },
     "metadata": {},
     "output_type": "display_data"
    },
    {
     "name": "stdout",
     "output_type": "stream",
     "text": [
      "Report Reports/sweetviz_report.html was generated.\n",
      "Đã lưu: Reports/sweetviz_report.html\n"
     ]
    }
   ],
   "source": [
    "# Cài đặt (nếu chưa có) và tạo báo cáo SweetViz\n",
    "import sys, subprocess, os\n",
    "\n",
    "try:\n",
    "    import sweetviz as sv\n",
    "except ImportError:\n",
    "    subprocess.run([sys.executable, \"-m\", \"pip\", \"install\", \"sweetviz\", \"--quiet\"], check=False)\n",
    "    import sweetviz as sv\n",
    "\n",
    "import pandas as pd\n",
    "\n",
    "# Đọc dữ liệu và tạo báo cáo\n",
    "marketing_data = pd.read_csv(\"marketing_campaign.csv\")\n",
    "report = sv.analyze(marketing_data)\n",
    "os.makedirs(\"Reports\", exist_ok=True)\n",
    "report.show_html(\"Reports/sweetviz_report.html\", open_browser=False)\n",
    "print(\"Đã lưu: Reports/sweetviz_report.html\")\n"
   ]
  },
  {
   "cell_type": "markdown",
   "id": "92bf6b2e",
   "metadata": {},
   "source": [
    "### 1.3.4. Bài tập thực hành 2 — AutoViz\n",
    "Tạo báo cáo EDA tự động bằng AutoViz trên tập `marketing_campaign.csv` và lưu kết quả vào `Reports/`.\n"
   ]
  },
  {
   "cell_type": "code",
   "execution_count": null,
   "id": "19f8da3d",
   "metadata": {},
   "outputs": [],
   "source": [
    "# Cài đặt (nếu chưa có) và tạo báo cáo AutoViz\n",
    "import sys, subprocess, os\n",
    "\n",
    "try:\n",
    "    from autoviz.AutoViz_Class import AutoViz_Class\n",
    "except Exception:\n",
    "    subprocess.run([sys.executable, \"-m\", \"pip\", \"install\", \"autoviz\", \"xgboost<2\", \"--quiet\"], check=False)\n",
    "    from autoviz.AutoViz_Class import AutoViz_Class\n",
    "\n",
    "AV = AutoViz_Class()\n",
    "os.makedirs(\"Reports\", exist_ok=True)\n",
    "_ = AV.AutoViz(\n",
    "    filename=\"marketing_campaign.csv\",\n",
    "    sep=\",\",\n",
    "    depVar=None,\n",
    "    header=0,\n",
    "    verbose=0,\n",
    "    lowess=False,\n",
    "    chart_format=\"svg\",\n",
    "    max_rows_analyzed=150000,\n",
    "    max_cols_analyzed=50,\n",
    "    save_plot_dir=\"Reports/AutoViz\"\n",
    ")\n",
    "print(\"Đã lưu biểu đồ AutoViz trong thư mục: Reports/AutoViz\")\n"
   ]
  },
  {
   "cell_type": "markdown",
   "id": "cf8ab47b",
   "metadata": {},
   "source": []
  }
 ],
 "metadata": {
  "kernelspec": {
   "display_name": "base",
   "language": "python",
   "name": "python3"
  },
  "language_info": {
   "codemirror_mode": {
    "name": "ipython",
    "version": 3
   },
   "file_extension": ".py",
   "mimetype": "text/x-python",
   "name": "python",
   "nbconvert_exporter": "python",
   "pygments_lexer": "ipython3",
   "version": "3.12.7"
  }
 },
 "nbformat": 4,
 "nbformat_minor": 5
}
